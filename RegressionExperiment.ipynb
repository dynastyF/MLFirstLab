{
 "cells": [
  {
   "cell_type": "code",
   "execution_count": 34,
   "metadata": {},
   "outputs": [
    {
     "name": "stdout",
     "output_type": "stream",
     "text": [
      "d\n"
     ]
    }
   ],
   "source": [
    "print(\"d\")#test"
   ]
  },
  {
   "cell_type": "code",
   "execution_count": 35,
   "metadata": {
    "scrolled": true
   },
   "outputs": [
    {
     "name": "stdout",
     "output_type": "stream",
     "text": [
      "[ 24.   21.6  34.7  33.4  36.2  28.7  22.9  27.1  16.5  18.9  15.   18.9\n",
      "  21.7  20.4  18.2  19.9  23.1  17.5  20.2  18.2  13.6  19.6  15.2  14.5\n",
      "  15.6  13.9  16.6  14.8  18.4  21.   12.7  14.5  13.2  13.1  13.5  18.9\n",
      "  20.   21.   24.7  30.8  34.9  26.6  25.3  24.7  21.2  19.3  20.   16.6\n",
      "  14.4  19.4  19.7  20.5  25.   23.4  18.9  35.4  24.7  31.6  23.3  19.6\n",
      "  18.7  16.   22.2  25.   33.   23.5  19.4  22.   17.4  20.9  24.2  21.7\n",
      "  22.8  23.4  24.1  21.4  20.   20.8  21.2  20.3  28.   23.9  24.8  22.9\n",
      "  23.9  26.6  22.5  22.2  23.6  28.7  22.6  22.   22.9  25.   20.6  28.4\n",
      "  21.4  38.7  43.8  33.2  27.5  26.5  18.6  19.3  20.1  19.5  19.5  20.4\n",
      "  19.8  19.4  21.7  22.8  18.8  18.7  18.5  18.3  21.2  19.2  20.4  19.3\n",
      "  22.   20.3  20.5  17.3  18.8  21.4  15.7  16.2  18.   14.3  19.2  19.6\n",
      "  23.   18.4  15.6  18.1  17.4  17.1  13.3  17.8  14.   14.4  13.4  15.6\n",
      "  11.8  13.8  15.6  14.6  17.8  15.4  21.5  19.6  15.3  19.4  17.   15.6\n",
      "  13.1  41.3  24.3  23.3  27.   50.   50.   50.   22.7  25.   50.   23.8\n",
      "  23.8  22.3  17.4  19.1  23.1  23.6  22.6  29.4  23.2  24.6  29.9  37.2\n",
      "  39.8  36.2  37.9  32.5  26.4  29.6  50.   32.   29.8  34.9  37.   30.5\n",
      "  36.4  31.1  29.1  50.   33.3  30.3  34.6  34.9  32.9  24.1  42.3  48.5\n",
      "  50.   22.6  24.4  22.5  24.4  20.   21.7  19.3  22.4  28.1  23.7  25.\n",
      "  23.3  28.7  21.5  23.   26.7  21.7  27.5  30.1  44.8  50.   37.6  31.6\n",
      "  46.7  31.5  24.3  31.7  41.7  48.3  29.   24.   25.1  31.5  23.7  23.3\n",
      "  22.   20.1  22.2  23.7  17.6  18.5  24.3  20.5  24.5  26.2  24.4  24.8\n",
      "  29.6  42.8  21.9  20.9  44.   50.   36.   30.1  33.8  43.1  48.8  31.\n",
      "  36.5  22.8  30.7  50.   43.5  20.7  21.1  25.2  24.4  35.2  32.4  32.\n",
      "  33.2  33.1  29.1  35.1  45.4  35.4  46.   50.   32.2  22.   20.1  23.2\n",
      "  22.3  24.8  28.5  37.3  27.9  23.9  21.7  28.6  27.1  20.3  22.5  29.\n",
      "  24.8  22.   26.4  33.1  36.1  28.4  33.4  28.2  22.8  20.3  16.1  22.1\n",
      "  19.4  21.6  23.8  16.2  17.8  19.8  23.1  21.   23.8  23.1  20.4  18.5\n",
      "  25.   24.6  23.   22.2  19.3  22.6  19.8  17.1  19.4  22.2  20.7  21.1\n",
      "  19.5  18.5  20.6  19.   18.7  32.7  16.5  23.9  31.2  17.5  17.2  23.1\n",
      "  24.5  26.6  22.9  24.1  18.6  30.1  18.2  20.6  17.8  21.7  22.7  22.6\n",
      "  25.   19.9  20.8  16.8  21.9  27.5  21.9  23.1  50.   50.   50.   50.\n",
      "  50.   13.8  13.8  15.   13.9  13.3  13.1  10.2  10.4  10.9  11.3  12.3\n",
      "   8.8   7.2  10.5   7.4  10.2  11.5  15.1  23.2   9.7  13.8  12.7  13.1\n",
      "  12.5   8.5   5.    6.3   5.6   7.2  12.1   8.3   8.5   5.   11.9  27.9\n",
      "  17.2  27.5  15.   17.2  17.9  16.3   7.    7.2   7.5  10.4   8.8   8.4\n",
      "  16.7  14.2  20.8  13.4  11.7   8.3  10.2  10.9  11.    9.5  14.5  14.1\n",
      "  16.1  14.3  11.7  13.4   9.6   8.7   8.4  12.8  10.5  17.1  18.4  15.4\n",
      "  10.8  11.8  14.9  12.6  14.1  13.   13.4  15.2  16.1  17.8  14.9  14.1\n",
      "  12.7  13.5  14.9  20.   16.4  17.7  19.5  20.2  21.4  19.9  19.   19.1\n",
      "  19.1  20.1  19.9  19.6  23.2  29.8  13.8  13.3  16.7  12.   14.6  21.4\n",
      "  23.   23.7  25.   21.8  20.6  21.2  19.1  20.6  15.2   7.    8.1  13.6\n",
      "  20.1  21.8  24.5  23.1  19.7  18.3  21.2  17.5  16.8  22.4  20.6  23.9\n",
      "  22.   11.9]\n",
      "  (0, 0)\t-1.0\n",
      "  (0, 1)\t-0.64\n",
      "  (0, 2)\t-0.86437\n",
      "  (0, 3)\t-1.0\n",
      "  (0, 4)\t-0.37037\n",
      "  (0, 5)\t0.155011\n",
      "  (0, 6)\t0.283213\n",
      "  (0, 7)\t-0.461594\n",
      "  (0, 8)\t-1.0\n",
      "  (0, 9)\t-0.583969\n",
      "  (0, 10)\t-0.425532\n",
      "  (0, 11)\t1.0\n",
      "  (0, 12)\t-0.82064\n",
      "  (1, 0)\t-0.999528\n",
      "  (1, 1)\t-1.0\n",
      "  (1, 2)\t-0.515396\n",
      "  (1, 3)\t-1.0\n",
      "  (1, 4)\t-0.654321\n",
      "  (1, 5)\t0.0959954\n",
      "  (1, 6)\t0.565396\n",
      "  (1, 7)\t-0.302076\n",
      "  (1, 8)\t-0.913043\n",
      "  (1, 9)\t-0.790076\n",
      "  (1, 10)\t0.106383\n",
      "  (1, 11)\t1.0\n",
      "  :\t:\n",
      "  (504, 1)\t-1.0\n",
      "  (504, 2)\t-0.159091\n",
      "  (504, 3)\t-1.0\n",
      "  (504, 4)\t-0.226337\n",
      "  (504, 5)\t0.238935\n",
      "  (504, 6)\t0.779609\n",
      "  (504, 7)\t-0.770972\n",
      "  (504, 8)\t-1.0\n",
      "  (504, 9)\t-0.671756\n",
      "  (504, 10)\t0.787234\n",
      "  (504, 11)\t0.982601\n",
      "  (504, 12)\t-0.737859\n",
      "  (505, 0)\t-0.999076\n",
      "  (505, 1)\t-1.0\n",
      "  (505, 2)\t-0.159091\n",
      "  (505, 3)\t-1.0\n",
      "  (505, 4)\t-0.226337\n",
      "  (505, 5)\t-0.0538417\n",
      "  (505, 6)\t0.604531\n",
      "  (505, 7)\t-0.749857\n",
      "  (505, 8)\t-1.0\n",
      "  (505, 9)\t-0.671756\n",
      "  (505, 10)\t0.787234\n",
      "  (505, 11)\t1.0\n",
      "  (505, 12)\t-0.660596\n"
     ]
    }
   ],
   "source": [
    "#read house file\n",
    "from sklearn.externals.joblib import Memory\n",
    "from sklearn.datasets import load_svmlight_file\n",
    "mem = Memory(\"./mycache\")\n",
    "\n",
    "@mem.cache\n",
    "def get_data():\n",
    "    data = load_svmlight_file(\"D:\\\\RL\\\\house.txt\")\n",
    "    return data[0], data[1]\n",
    "\n",
    "X, y = get_data()\n",
    "print(y)\n",
    "print(X)"
   ]
  },
  {
   "cell_type": "code",
   "execution_count": 36,
   "metadata": {
    "scrolled": true
   },
   "outputs": [
    {
     "name": "stdout",
     "output_type": "stream",
     "text": [
      "167\n"
     ]
    }
   ],
   "source": [
    "#split dateset\n",
    "from numpy import *\n",
    "import numpy as np\n",
    "from sklearn.model_selection import train_test_split\n",
    "X_train, X_test, y_train, y_test = train_test_split(X, y, test_size=0.33, random_state=42)\n",
    "#print((X_train))\n",
    "#print(X_test)\n",
    "#print(y_train)\n",
    "#print(y_test)\n",
    "#print(X_train)\n",
    "X_train = X_train.todense()\n",
    "X_test = X_test.todense()\n",
    "print(X_test.shape[0])\n",
    "yy = mat(y_train)\n",
    "yyy = mat(y_test)\n",
    "#y_train = y_train.todense()\n",
    "#y_test = y_train,todense()"
   ]
  },
  {
   "cell_type": "code",
   "execution_count": 37,
   "metadata": {},
   "outputs": [
    {
     "name": "stdout",
     "output_type": "stream",
     "text": [
      "[[ 0.]\n",
      " [ 0.]\n",
      " [ 0.]\n",
      " [ 0.]\n",
      " [ 0.]\n",
      " [ 0.]\n",
      " [ 0.]\n",
      " [ 0.]\n",
      " [ 0.]\n",
      " [ 0.]\n",
      " [ 0.]\n",
      " [ 0.]\n",
      " [ 0.]\n",
      " [ 0.]]\n"
     ]
    }
   ],
   "source": [
    "#pare init\n",
    "w = np.zeros((14,1))\n",
    "print(w)"
   ]
  },
  {
   "cell_type": "code",
   "execution_count": 38,
   "metadata": {
    "scrolled": true
   },
   "outputs": [
    {
     "name": "stdout",
     "output_type": "stream",
     "text": [
      "[[ 0.]\n",
      " [ 0.]\n",
      " [ 0.]\n",
      " [ 0.]\n",
      " [ 0.]\n",
      " [ 0.]\n",
      " [ 0.]\n",
      " [ 0.]\n",
      " [ 0.]\n",
      " [ 0.]\n",
      " [ 0.]\n",
      " [ 0.]\n",
      " [ 0.]\n",
      " [ 0.]]\n",
      "[[-0.770109  -1.         0.293255  ...,  0.913258  -0.100442   1.       ]\n",
      " [-0.985038  -1.        -0.43695   ...,  0.899037  -0.278146   1.       ]\n",
      " [-0.996893  -0.75      -0.456745  ...,  1.        -0.0386313  1.       ]\n",
      " ..., \n",
      " [-0.999805   0.6       -0.886364  ...,  0.969943  -0.764901   1.       ]\n",
      " [-0.749262  -1.         0.293255  ..., -0.447627   0.188742   1.       ]\n",
      " [-0.995     -1.        -0.406158  ..., -0.644561  -0.50883    1.       ]]\n",
      "[[ 0.]\n",
      " [ 0.]\n",
      " [ 0.]\n",
      " [ 0.]\n",
      " [ 0.]\n",
      " [ 0.]\n",
      " [ 0.]\n",
      " [ 0.]\n",
      " [ 0.]\n",
      " [ 0.]\n",
      " [ 0.]\n",
      " [ 0.]\n",
      " [ 0.]\n",
      " [ 0.]]\n"
     ]
    }
   ],
   "source": [
    "print(w)\n",
    "#X_train 339\n",
    "#X_test 167\n",
    "b = np.ones((339,1))\n",
    "c = np.ones((167,1))\n",
    "#print(b)\n",
    "X2 = np.column_stack((X_train, b))\n",
    "X3 = np.column_stack((X_test, c))\n",
    "print(X2)\n",
    "print(w)"
   ]
  },
  {
   "cell_type": "code",
   "execution_count": 39,
   "metadata": {
    "scrolled": true
   },
   "outputs": [
    {
     "name": "stdout",
     "output_type": "stream",
     "text": [
      "[[ 14815.3463636 ]\n",
      " [ 10945.954     ]\n",
      " [  4720.8952283 ]\n",
      " [ 12396.2       ]\n",
      " [  5806.59568992]\n",
      " [ -2152.28703604]\n",
      " [ -4292.19318412]\n",
      " [  7506.02685293]\n",
      " [  5913.9546474 ]\n",
      " [  4184.580356  ]\n",
      " [ -1697.77410708]\n",
      " [-13491.47916474]\n",
      " [  8205.769165  ]\n",
      " [-15574.2       ]]\n",
      "[[ 0.]\n",
      " [ 0.]\n",
      " [ 0.]\n",
      " [ 0.]\n",
      " [ 0.]\n",
      " [ 0.]\n",
      " [ 0.]\n",
      " [ 0.]\n",
      " [ 0.]\n",
      " [ 0.]\n",
      " [ 0.]\n",
      " [ 0.]\n",
      " [ 0.]\n",
      " [ 0.]]\n"
     ]
    }
   ],
   "source": [
    "gl = 2 * X2.T *(X2 * w - yy.T) \n",
    "print(gl)\n",
    "print(w)"
   ]
  },
  {
   "cell_type": "code",
   "execution_count": 40,
   "metadata": {},
   "outputs": [
    {
     "name": "stdout",
     "output_type": "stream",
     "text": [
      "[[ 98595.00661884]]\n",
      "[[ 93178.77051705]]\n",
      "[[ 88106.23528486]]\n",
      "[[ 83355.4315726]]\n",
      "[[ 78905.79593567]]\n",
      "[[ 74738.08083558]]\n",
      "[[ 70834.27040288]]\n",
      "[[ 67177.50159311]]\n",
      "[[ 63751.99039044]]\n",
      "[[ 60542.96273585]]\n",
      "[[ 57536.58987746]]\n",
      "[[ 54719.92785966]]\n",
      "[[ 52080.86088629]]\n",
      "[[ 49608.04830974]]\n",
      "[[ 47290.87501377]]\n",
      "[[ 45119.40497288]]\n",
      "[[ 43084.33778479]]\n",
      "[[ 41176.96798573]]\n",
      "[[ 39389.14697023]]\n",
      "[[ 37713.24734896]]\n",
      "[[ 36142.12958813]]\n",
      "[[ 34669.11078477]]\n",
      "[[ 33287.93544083]]\n",
      "[[ 31992.74810833]]\n",
      "[[ 30778.06778571]]\n",
      "[[ 29638.76395319]]\n",
      "[[ 28570.03414236]]\n",
      "[[ 27567.38294157]]\n",
      "[[ 26626.60234548]]\n",
      "[[ 25743.75336233]]\n",
      "[[ 24915.14879885]]\n",
      "[[ 24137.33714702]]\n",
      "[[ 23407.08750237]]\n",
      "[[ 22721.37544776]]\n",
      "[[ 22077.3698407]]\n",
      "[[ 21472.42044649]]\n",
      "[[ 20904.04636301]]\n",
      "[[ 20369.92518645]]\n",
      "[[ 19867.88287049]]\n",
      "[[ 19395.88423467]]\n",
      "[[ 18952.02408031]]\n",
      "[[ 18534.51887503]]\n",
      "[[ 18141.69896958]]\n",
      "[[ 17772.00131285]]\n",
      "[[ 17423.96263314]]\n",
      "[[ 17096.21305587]]\n",
      "[[ 16787.47012981]]\n",
      "[[ 16496.53323565]]\n",
      "[[ 16222.27835238]]\n",
      "[[ 15963.65315876]]\n",
      "[[ 15719.67244812]]\n",
      "[[ 15489.41383679]]\n",
      "[[ 15272.01374705]]\n",
      "[[ 15066.66364725]]\n",
      "[[ 14872.60653247]]\n",
      "[[ 14689.13363049]]\n",
      "[[ 14515.58131844]]\n",
      "[[ 14351.32823687]]\n",
      "[[ 14195.79258843]]\n",
      "[[ 14048.42960941]]\n",
      "[[ 13908.7292031]]\n",
      "[[ 13776.21372452]]\n",
      "[[ 13650.43590694]]\n",
      "[[ 13530.97692109]]\n",
      "[[ 13417.44455843]]\n",
      "[[ 13309.47153077]]\n",
      "[[ 13206.71387864]]\n",
      "[[ 13108.8494814]]\n",
      "[[ 13015.57666279]]\n",
      "[[ 12926.61288558]]\n",
      "[[ 12841.69352974]]\n",
      "[[ 12760.57074883]]\n",
      "[[ 12683.01239942]]\n",
      "[[ 12608.80103907]]\n",
      "[[ 12537.73298835]]\n",
      "[[ 12469.61745288]]\n",
      "[[ 12404.27570146]]\n",
      "[[ 12341.54029681]]\n",
      "[[ 12281.25437547]]\n",
      "[[ 12223.27097372]]\n",
      "[[ 12167.45239665]]\n",
      "[[ 12113.66962749]]\n",
      "[[ 12061.80177479]]\n",
      "[[ 12011.73555485]]\n",
      "[[ 11963.36480727]]\n",
      "[[ 11916.59004147]]\n",
      "[[ 11871.31801214]]\n",
      "[[ 11827.46132192]]\n",
      "[[ 11784.93804933]]\n",
      "[[ 11743.67140057]]\n",
      "[[ 11703.58938354]]\n",
      "[[ 11664.62450267]]\n",
      "[[ 11626.71347321]]\n",
      "[[ 11589.79695388]]\n",
      "[[ 11553.81929642]]\n",
      "[[ 11518.72831128]]\n",
      "[[ 11484.4750482]]\n",
      "[[ 11451.01359076]]\n",
      "[[ 11418.30086417]]\n",
      "[[ 11386.29645516]]\n"
     ]
    }
   ],
   "source": [
    "w\n",
    "n = 0.00001\n",
    "a = []\n",
    "b = []\n",
    "c = []\n",
    "w\n",
    "for i in range(100):\n",
    "    w = w - n * ( 2 * X2.T *(X2 * w - yy.T)  )\n",
    "    loss = 1/2 * (( yy.T - X2*w ).T ) * ( yy.T - X2 * w)\n",
    "    lossTest = 1/2 * (( yyy.T - X3*w ).T ) * ( yyy.T - X3 * w)\n",
    "    a.append(loss)\n",
    "    print(loss)\n",
    "    c.append(lossTest)\n",
    "    b.append(i)"
   ]
  },
  {
   "cell_type": "code",
   "execution_count": 41,
   "metadata": {
    "scrolled": true
   },
   "outputs": [
    {
     "name": "stdout",
     "output_type": "stream",
     "text": [
      "[[-4.64242195]\n",
      " [-2.83017858]\n",
      " [-1.76255993]\n",
      " [-2.94567225]\n",
      " [-2.0040922 ]\n",
      " [ 1.29854195]\n",
      " [ 0.89276639]\n",
      " [-2.24297057]\n",
      " [-1.66754301]\n",
      " [-1.32819249]\n",
      " [-0.14043902]\n",
      " [ 4.14940176]\n",
      " [-3.30953953]\n",
      " [ 4.85708969]]\n"
     ]
    }
   ],
   "source": [
    "print(w)\n",
    "#a\n",
    "#b"
   ]
  },
  {
   "cell_type": "code",
   "execution_count": 42,
   "metadata": {
    "collapsed": true
   },
   "outputs": [],
   "source": [
    "#loss = 1/2 * (( yy.T - X2*w ).T ) * ( yy.T - X2 * w)"
   ]
  },
  {
   "cell_type": "code",
   "execution_count": 43,
   "metadata": {
    "collapsed": true
   },
   "outputs": [],
   "source": [
    "#print(loss)"
   ]
  },
  {
   "cell_type": "code",
   "execution_count": 44,
   "metadata": {},
   "outputs": [
    {
     "data": {
      "image/png": "[encoded data removed]",
      "text/plain": [
       "<matplotlib.figure.Figure at 0x21638ca9f98>"
      ]
     },
     "metadata": {},
     "output_type": "display_data"
    }
   ],
   "source": [
    "from pylab import *\n",
    "X = np.linspace(-np.pi, np.pi, 256,endpoint=True)\n",
    "C,S = np.cos(X), np.sin(X)\n",
    "Y = [1,5,3]\n",
    "#plot(Y)\n",
    "scatter(b,a,marker='x')\n",
    "scatter(b,c,c = 'r',marker='x')\n",
    "#plot(b,a)\n",
    "#plot(b,c,'r')\n",
    "show()"
   ]
  },
  {
   "cell_type": "code",
   "execution_count": null,
   "metadata": {
    "collapsed": true
   },
   "outputs": [],
   "source": []
  }
 ],
 "metadata": {
  "kernelspec": {
   "display_name": "Python 3",
   "language": "python",
   "name": "python3"
  },
  "language_info": {
   "codemirror_mode": {
    "name": "ipython",
    "version": 3
   },
   "file_extension": ".py",
   "mimetype": "text/x-python",
   "name": "python",
   "nbconvert_exporter": "python",
   "pygments_lexer": "ipython3",
   "version": "3.6.3"
  }
 },
 "nbformat": 4,
 "nbformat_minor": 2
}
